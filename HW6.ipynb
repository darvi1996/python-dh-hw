{
 "cells": [
  {
   "cell_type": "markdown",
   "metadata": {},
   "source": [
    "# Задание 1"
   ]
  },
  {
   "cell_type": "code",
   "execution_count": 146,
   "metadata": {},
   "outputs": [],
   "source": [
    "def get_bigrams(text):\n",
    "    bigrams = []\n",
    "    for word in text.split(' '):\n",
    "        for i in range(len(word) - 1):\n",
    "            bigrams.append(word[i:i + 2])\n",
    "    return bigrams"
   ]
  },
  {
   "cell_type": "code",
   "execution_count": 147,
   "metadata": {},
   "outputs": [
    {
     "name": "stdout",
     "output_type": "stream",
     "text": [
      "sds dsad aadsds sd sds\n",
      "['sd', 'ds', 'ds', 'sa', 'ad', 'aa', 'ad', 'ds', 'sd', 'ds', 'sd', 'sd', 'ds']\n"
     ]
    }
   ],
   "source": [
    "text = input()\n",
    "bigrams = get_bigrams(text)\n",
    "print(bigrams)"
   ]
  },
  {
   "cell_type": "code",
   "execution_count": 148,
   "metadata": {},
   "outputs": [],
   "source": [
    "bigrams_dict = {}\n",
    "for bigram in bigrams:\n",
    "    if bigram in bigrams_dict.keys():\n",
    "        bigrams_dict[bigram] += 1\n",
    "    else:\n",
    "        bigrams_dict[bigram] = 1"
   ]
  },
  {
   "cell_type": "code",
   "execution_count": 149,
   "metadata": {},
   "outputs": [
    {
     "name": "stdout",
     "output_type": "stream",
     "text": [
      "sd 4\n",
      "ds 5\n",
      "sa 1\n",
      "ad 2\n",
      "aa 1\n"
     ]
    }
   ],
   "source": [
    "for bigram in bigrams_dict.keys():\n",
    "    print(bigram, bigrams_dict[bigram])\n",
    "    if bigram[0] == bigram[1]:\n",
    "        break"
   ]
  },
  {
   "cell_type": "markdown",
   "metadata": {},
   "source": [
    "# Задание 2"
   ]
  },
  {
   "cell_type": "code",
   "execution_count": 154,
   "metadata": {
    "collapsed": true
   },
   "outputs": [],
   "source": [
    "def is_palindrom(text):\n",
    "    word_1, word_2 = text.split(' ')\n",
    "    if word_1[::-1] == word_2:\n",
    "        print('YES')\n",
    "    else:\n",
    "        print('NO')"
   ]
  },
  {
   "cell_type": "code",
   "execution_count": 155,
   "metadata": {},
   "outputs": [
    {
     "name": "stdout",
     "output_type": "stream",
     "text": [
      "wer rew\n",
      "YES\n"
     ]
    }
   ],
   "source": [
    "text = input()\n",
    "is_palindrom(text)"
   ]
  },
  {
   "cell_type": "code",
   "execution_count": 156,
   "metadata": {},
   "outputs": [
    {
     "name": "stdout",
     "output_type": "stream",
     "text": [
      "wer wer\n",
      "NO\n"
     ]
    }
   ],
   "source": [
    "text = input()\n",
    "is_palindrom(text)"
   ]
  }
 ],
 "metadata": {
  "kernelspec": {
   "display_name": "Python 3",
   "language": "python",
   "name": "python3"
  },
  "language_info": {
   "codemirror_mode": {
    "name": "ipython",
    "version": 3
   },
   "file_extension": ".py",
   "mimetype": "text/x-python",
   "name": "python",
   "nbconvert_exporter": "python",
   "pygments_lexer": "ipython3",
   "version": "3.6.1"
  }
 },
 "nbformat": 4,
 "nbformat_minor": 2
}
