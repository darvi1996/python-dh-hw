{
 "cells": [
  {
   "cell_type": "markdown",
   "metadata": {},
   "source": [
    "# Задание 1"
   ]
  },
  {
   "cell_type": "code",
   "execution_count": 1,
   "metadata": {
    "collapsed": true
   },
   "outputs": [],
   "source": [
    "def get_bigrams(text):\n",
    "    bigrams = []\n",
    "    for word in text.split(' '):\n",
    "        for i in range(len(word) - 1):\n",
    "            bigrams.append(word[i:i + 2])\n",
    "    return bigrams"
   ]
  },
  {
   "cell_type": "code",
   "execution_count": 2,
   "metadata": {},
   "outputs": [
    {
     "name": "stdout",
     "output_type": "stream",
     "text": [
      "абракадабра фокус покус десятка за курс немедленно появись\n",
      "['аб', 'бр', 'ра', 'ак', 'ка', 'ад', 'да', 'аб', 'бр', 'ра', 'фо', 'ок', 'ку', 'ус', 'по', 'ок', 'ку', 'ус', 'де', 'ес', 'ся', 'ят', 'тк', 'ка', 'за', 'ку', 'ур', 'рс', 'не', 'ем', 'ме', 'ед', 'дл', 'ле', 'ен', 'нн', 'но', 'по', 'оя', 'яв', 'ви', 'ис', 'сь']\n"
     ]
    }
   ],
   "source": [
    "text = input()\n",
    "bigrams = get_bigrams(text)\n",
    "print(bigrams)"
   ]
  },
  {
   "cell_type": "code",
   "execution_count": 3,
   "metadata": {
    "collapsed": true
   },
   "outputs": [],
   "source": [
    "bigrams_dict = {}\n",
    "for bigram in bigrams:\n",
    "    if bigram in bigrams_dict.keys():\n",
    "        bigrams_dict[bigram] += 1\n",
    "    else:\n",
    "        bigrams_dict[bigram] = 1"
   ]
  },
  {
   "cell_type": "code",
   "execution_count": 4,
   "metadata": {},
   "outputs": [
    {
     "name": "stdout",
     "output_type": "stream",
     "text": [
      "аб 2\n",
      "бр 2\n",
      "ра 2\n",
      "ак 1\n",
      "ка 2\n",
      "ад 1\n",
      "да 1\n",
      "фо 1\n",
      "ок 2\n",
      "ку 3\n",
      "ус 2\n",
      "по 2\n",
      "де 1\n",
      "ес 1\n",
      "ся 1\n",
      "ят 1\n",
      "тк 1\n",
      "за 1\n",
      "ур 1\n",
      "рс 1\n",
      "не 1\n",
      "ем 1\n",
      "ме 1\n",
      "ед 1\n",
      "дл 1\n",
      "ле 1\n",
      "ен 1\n",
      "нн 1\n"
     ]
    }
   ],
   "source": [
    "for bigram in bigrams_dict.keys():\n",
    "    print(bigram, bigrams_dict[bigram])\n",
    "    if bigram[0] == bigram[1]:\n",
    "        break"
   ]
  },
  {
   "cell_type": "markdown",
   "metadata": {},
   "source": [
    "# Задание 2"
   ]
  },
  {
   "cell_type": "code",
   "execution_count": 154,
   "metadata": {
    "collapsed": true
   },
   "outputs": [],
   "source": [
    "def is_palindrom(text):\n",
    "    word_1, word_2 = text.split(' ')\n",
    "    if word_1[::-1] == word_2:\n",
    "        print('YES')\n",
    "    else:\n",
    "        print('NO')"
   ]
  },
  {
   "cell_type": "code",
   "execution_count": 155,
   "metadata": {},
   "outputs": [
    {
     "name": "stdout",
     "output_type": "stream",
     "text": [
      "wer rew\n",
      "YES\n"
     ]
    }
   ],
   "source": [
    "text = input()\n",
    "is_palindrom(text)"
   ]
  },
  {
   "cell_type": "code",
   "execution_count": 156,
   "metadata": {},
   "outputs": [
    {
     "name": "stdout",
     "output_type": "stream",
     "text": [
      "wer wer\n",
      "NO\n"
     ]
    }
   ],
   "source": [
    "text = input()\n",
    "is_palindrom(text)"
   ]
  }
 ],
 "metadata": {
  "kernelspec": {
   "display_name": "Python 3",
   "language": "python",
   "name": "python3"
  },
  "language_info": {
   "codemirror_mode": {
    "name": "ipython",
    "version": 3
   },
   "file_extension": ".py",
   "mimetype": "text/x-python",
   "name": "python",
   "nbconvert_exporter": "python",
   "pygments_lexer": "ipython3",
   "version": "3.6.1"
  }
 },
 "nbformat": 4,
 "nbformat_minor": 2
}
