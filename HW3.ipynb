{
 "cells": [
  {
   "cell_type": "markdown",
   "metadata": {},
   "source": [
    "# Задача 1"
   ]
  },
  {
   "cell_type": "code",
   "execution_count": 3,
   "metadata": {},
   "outputs": [
    {
     "name": "stdout",
     "output_type": "stream",
     "text": [
      "  _~_      _~_      _~_      _~_      _~_      _~_      _~_    \n",
      " (o o)    (o o)    (o o)    (o o)    (o o)    (o o)    (o o)   \n",
      " / V \\    / V \\    / V \\    / V \\    / V \\    / V \\    / V \\   \n",
      "/( _ )\\  /( _ )\\  /( _ )\\  /( _ )\\  /( _ )\\  /( _ )\\  /( _ )\\  \n",
      " ^^ ^^    ^^ ^^    ^^ ^^    ^^ ^^    ^^ ^^    ^^ ^^    ^^ ^^   "
     ]
    }
   ],
   "source": [
    "# Пингвины\n",
    "\n",
    "n = 7\n",
    "p1 = '  _~_   ' \n",
    "p2 = ' (o o)  ' \n",
    "p3 = ' / V \\\\  ' \n",
    "p4 = '/( _ )\\\\ ' \n",
    "p5 = ' ^^ ^^  ' \n",
    "\n",
    "for i in range(n):\n",
    "    print(p1, end=' ')\n",
    "print() \n",
    "\n",
    "for i in range(n):\n",
    "    print(p2, end=' ')\n",
    "print()\n",
    "    \n",
    "for i in range(n):\n",
    "    print(p3, end=' ')\n",
    "print()\n",
    "    \n",
    "for i in range(n):\n",
    "    print(p4, end=' ')\n",
    "print()\n",
    "    \n",
    "for i in range(n):\n",
    "    print(p5, end=' ')"
   ]
  },
  {
   "cell_type": "markdown",
   "metadata": {},
   "source": [
    "# Задача 2"
   ]
  },
  {
   "cell_type": "code",
   "execution_count": 3,
   "metadata": {},
   "outputs": [
    {
     "name": "stdout",
     "output_type": "stream",
     "text": [
      "6\n"
     ]
    }
   ],
   "source": [
    "# Посчитем пробелы строке\n",
    "s = 'Считаем количество слов. Здесь их шесть'\n",
    "print(s.count(' ') + 1)"
   ]
  },
  {
   "cell_type": "markdown",
   "metadata": {},
   "source": [
    "## Задача 3"
   ]
  },
  {
   "cell_type": "code",
   "execution_count": 1,
   "metadata": {},
   "outputs": [
    {
     "name": "stdout",
     "output_type": "stream",
     "text": [
      "7.35\n"
     ]
    }
   ],
   "source": [
    "# Посчитаем итоговую оценку (grade) по оценке за экзамен (exam) и накопленной (accmulate)\n",
    "accumulate = 7.5\n",
    "exam = 7\n",
    "grade = 0.3 * exam + 0.7 * accumulate \n",
    "print(grade)"
   ]
  }
 ],
 "metadata": {
  "kernelspec": {
   "display_name": "Python 3",
   "language": "python",
   "name": "python3"
  },
  "language_info": {
   "codemirror_mode": {
    "name": "ipython",
    "version": 3
   },
   "file_extension": ".py",
   "mimetype": "text/x-python",
   "name": "python",
   "nbconvert_exporter": "python",
   "pygments_lexer": "ipython3",
   "version": "3.6.3"
  }
 },
 "nbformat": 4,
 "nbformat_minor": 2
}
